{
  "nbformat": 4,
  "nbformat_minor": 0,
  "metadata": {
    "colab": {
      "provenance": []
    },
    "kernelspec": {
      "name": "python3",
      "display_name": "Python 3"
    },
    "language_info": {
      "name": "python"
    }
  },
  "cells": [
    {
      "cell_type": "code",
      "execution_count": 1,
      "metadata": {
        "colab": {
          "base_uri": "https://localhost:8080/"
        },
        "id": "yRjfuv3K9fFY",
        "outputId": "4f0641b3-3fcb-4681-87b0-ce4eb977ff29"
      },
      "outputs": [
        {
          "output_type": "stream",
          "name": "stdout",
          "text": [
            "Requirement already satisfied: gensim in /usr/local/lib/python3.10/dist-packages (4.3.3)\n",
            "Requirement already satisfied: numpy<2.0,>=1.18.5 in /usr/local/lib/python3.10/dist-packages (from gensim) (1.26.4)\n",
            "Requirement already satisfied: scipy<1.14.0,>=1.7.0 in /usr/local/lib/python3.10/dist-packages (from gensim) (1.13.1)\n",
            "Requirement already satisfied: smart-open>=1.8.1 in /usr/local/lib/python3.10/dist-packages (from gensim) (7.0.4)\n",
            "Requirement already satisfied: wrapt in /usr/local/lib/python3.10/dist-packages (from smart-open>=1.8.1->gensim) (1.16.0)\n"
          ]
        }
      ],
      "source": [
        "!pip install gensim\n"
      ]
    },
    {
      "cell_type": "code",
      "source": [
        "from gensim.models import Word2Vec\n",
        "sentences = [['king', 'queen', 'man', 'woman', 'paris', 'france', 'london', 'england']]\n",
        "model = Word2Vec(sentences, vector_size=10, window=3, min_count=1, sg=0)\n",
        "embeddings = {word: model.wv[word] for word in sentences[0]}\n",
        "\n",
        "for word, vector in embeddings.items():\n",
        "    print(f\"Word: {word}\\nVector: {vector}\\n\")"
      ],
      "metadata": {
        "colab": {
          "base_uri": "https://localhost:8080/"
        },
        "id": "dK2kU11F96CG",
        "outputId": "2be48bcc-894c-40cb-bbd5-fbab8b2a72fb"
      },
      "execution_count": 10,
      "outputs": [
        {
          "output_type": "stream",
          "name": "stdout",
          "text": [
            "Word: king\n",
            "Vector: [ 0.05455794  0.08345953 -0.01453741 -0.09208143  0.04370552  0.00571785\n",
            "  0.07441908 -0.00813283 -0.02638414 -0.08753009]\n",
            "\n",
            "Word: queen\n",
            "Vector: [-0.01577691  0.00321379 -0.04140731 -0.07682877 -0.01508045  0.02469855\n",
            " -0.00888049  0.05533798 -0.02743044  0.02260121]\n",
            "\n",
            "Word: man\n",
            "Vector: [-0.08157917  0.04495798 -0.04137076  0.00824536  0.08498619 -0.04462177\n",
            "  0.045175   -0.0678696  -0.03548489  0.09398508]\n",
            "\n",
            "Word: woman\n",
            "Vector: [-0.0960355   0.05007293 -0.08759586 -0.04391825 -0.000351   -0.00296181\n",
            " -0.0766124   0.09614743  0.04982058  0.09233143]\n",
            "\n",
            "Word: paris\n",
            "Vector: [-0.07511582 -0.00930042  0.09538119 -0.07319167 -0.02333769 -0.01937741\n",
            "  0.08077437 -0.05930896  0.00045162 -0.04753734]\n",
            "\n",
            "Word: france\n",
            "Vector: [ 0.07311766  0.05070262  0.06757693  0.00762866  0.06350891 -0.03405366\n",
            " -0.00946401  0.05768573 -0.07521638 -0.03936104]\n",
            "\n",
            "Word: london\n",
            "Vector: [ 0.07380505 -0.01533471 -0.04536613  0.06554051 -0.0486016  -0.01816018\n",
            "  0.0287658   0.00991874 -0.08285215 -0.09448818]\n",
            "\n",
            "Word: england\n",
            "Vector: [-0.00536254  0.00236443  0.051036    0.09009716 -0.09303407 -0.07117158\n",
            "  0.0645919   0.08973429 -0.05015674 -0.03763556]\n",
            "\n"
          ]
        }
      ]
    },
    {
      "cell_type": "code",
      "source": [
        "!pip install scikit-learn\n",
        "from gensim.models import Word2Vec\n",
        "import numpy as np\n",
        "from sklearn.decomposition import PCA\n",
        "import matplotlib.pyplot as plt\n",
        "\n",
        "words = ['king', 'queen', 'man', 'woman', 'paris', 'france', 'london', 'england']\n",
        "word_vecs = [word_vectors[word] for word in words]\n",
        "pca = PCA(n_components=2)\n",
        "result = pca.fit_transform(word_vecs)\n",
        "plt.figure(figsize=(8, 6))\n",
        "plt.scatter(result[:, 0], result[:, 1], c='red')\n",
        "for i, word in enumerate(words):\n",
        "    plt.annotate(word, xy=(result[i, 0], result[i, 1]))\n",
        "plt.title(\"Word Embeddings Visualized using PCA\")\n",
        "plt.show()"
      ],
      "metadata": {
        "colab": {
          "base_uri": "https://localhost:8080/",
          "height": 632
        },
        "id": "zUphJO-b_Yvu",
        "outputId": "d7143268-0e98-4bd1-c69f-e8d79bf992fc"
      },
      "execution_count": 11,
      "outputs": [
        {
          "output_type": "stream",
          "name": "stdout",
          "text": [
            "Requirement already satisfied: scikit-learn in /usr/local/lib/python3.10/dist-packages (1.3.2)\n",
            "Requirement already satisfied: numpy<2.0,>=1.17.3 in /usr/local/lib/python3.10/dist-packages (from scikit-learn) (1.26.4)\n",
            "Requirement already satisfied: scipy>=1.5.0 in /usr/local/lib/python3.10/dist-packages (from scikit-learn) (1.13.1)\n",
            "Requirement already satisfied: joblib>=1.1.1 in /usr/local/lib/python3.10/dist-packages (from scikit-learn) (1.4.2)\n",
            "Requirement already satisfied: threadpoolctl>=2.0.0 in /usr/local/lib/python3.10/dist-packages (from scikit-learn) (3.5.0)\n"
          ]
        },
        {
          "output_type": "display_data",
          "data": {
            "text/plain": [
              "<Figure size 800x600 with 1 Axes>"
            ],
            "image/png": "[encoded data removed]"
          },
          "metadata": {}
        }
      ]
    },
    {
      "cell_type": "code",
      "source": [
        "nlp = spacy.load(\"en_core_web_sm\")\n",
        "sentence = \"The quick brown fox jumps over the lazy dog.\"\n",
        "doc = nlp(sentence)\n",
        "for token in doc:\n",
        "    print(f\"Word: {token.text}, POS: {token.pos_}, Dependency: {token.dep_}, Head: {token.head.text}\")"
      ],
      "metadata": {
        "colab": {
          "base_uri": "https://localhost:8080/"
        },
        "id": "hs3J76NQ_pqW",
        "outputId": "9700a944-63cc-4785-b672-ad5b73cb5777"
      },
      "execution_count": 12,
      "outputs": [
        {
          "output_type": "stream",
          "name": "stdout",
          "text": [
            "Word: The, POS: DET, Dependency: det, Head: fox\n",
            "Word: quick, POS: ADJ, Dependency: amod, Head: fox\n",
            "Word: brown, POS: ADJ, Dependency: amod, Head: fox\n",
            "Word: fox, POS: NOUN, Dependency: nsubj, Head: jumps\n",
            "Word: jumps, POS: VERB, Dependency: ROOT, Head: jumps\n",
            "Word: over, POS: ADP, Dependency: prep, Head: jumps\n",
            "Word: the, POS: DET, Dependency: det, Head: dog\n",
            "Word: lazy, POS: ADJ, Dependency: amod, Head: dog\n",
            "Word: dog, POS: NOUN, Dependency: pobj, Head: over\n",
            "Word: ., POS: PUNCT, Dependency: punct, Head: jumps\n"
          ]
        }
      ]
    }
  ]
}